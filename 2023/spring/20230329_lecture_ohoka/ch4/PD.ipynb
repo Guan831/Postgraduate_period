{
 "cells": [
  {
   "attachments": {},
   "cell_type": "markdown",
   "metadata": {},
   "source": [
    "# PD"
   ]
  },
  {
   "cell_type": "code",
   "execution_count": 2,
   "metadata": {},
   "outputs": [],
   "source": [
    "import sys\n",
    "import warnings\n",
    "from dataclasses import dataclass\n",
    "from typing import Any  # 型ヒント用\n",
    "from __future__ import annotations  # 型ヒント用\n",
    "\n",
    "import numpy as np\n",
    "import pandas as pd\n",
    "import matplotlib.pyplot as plt\n",
    "import seaborn as sns\n",
    "import japanize_matplotlib  # matplotlibの日本語表示対応\n",
    "\n",
    "# 自作モジュール\n",
    "sys.path.append(\"..\")\n",
    "from mli.visualize import get_visualization_setting\n",
    "\n",
    "np.random.seed(42)\n",
    "pd.options.display.float_format = \"{:.2f}\".format\n",
    "sns.set(**get_visualization_setting())\n",
    "warnings.simplefilter(\"ignore\")  # warningsを非表示に"
   ]
  },
  {
   "cell_type": "code",
   "execution_count": 3,
   "metadata": {},
   "outputs": [],
   "source": [
    "import joblib\n",
    "\n",
    "# データと学習済みモデルを読み込む\n",
    "X_train, X_test, y_train, y_test = joblib.load(\"../data/boston_housing.pkl\")\n",
    "rf = joblib.load(\"../model/boston_housing_rf.pkl\")"
   ]
  },
  {
   "cell_type": "code",
   "execution_count": null,
   "metadata": {},
   "outputs": [],
   "source": [
    "from sklearn.inspection import partial_dependence\n",
    "from sklearn.inspection import plot_partial_dependence\n",
    "\n",
    "\n",
    "# 何度か使うのでplot_partial_dependence()を利用した関数を作成しておく\n",
    "def plot_boston_pd(var_name, var_name_jp):\n",
    "    \"\"\"PDを可視化する関数\"\"\"\n",
    "\n",
    "    fig, ax = plt.subplots()\n",
    "    plot_partial_dependence(\n",
    "        \"\"\"\n",
    "        引数を設定する\n",
    "        関数であるvar_nameに注意\n",
    "        \n",
    "        \"\"\"\n",
    "        ax=ax,\n",
    "    )\n",
    "    fig.suptitle(f\"{var_name_jp}({var_name})のPartial Dependence Plot\")\n",
    "\n",
    "    fig.show()"
   ]
  },
  {
   "cell_type": "code",
   "execution_count": null,
   "metadata": {},
   "outputs": [],
   "source": [
    "plot_boston_pd(\"RM\", \"平均的な部屋の数\")"
   ]
  },
  {
   "cell_type": "code",
   "execution_count": null,
   "metadata": {},
   "outputs": [],
   "source": [
    "plot_boston_pd(\"DIS\", \"都心からの距離\")"
   ]
  }
 ],
 "metadata": {
  "kernelspec": {
   "display_name": "Python 3",
   "language": "python",
   "name": "python3"
  },
  "language_info": {
   "codemirror_mode": {
    "name": "ipython",
    "version": 3
   },
   "file_extension": ".py",
   "mimetype": "text/x-python",
   "name": "python",
   "nbconvert_exporter": "python",
   "pygments_lexer": "ipython3",
   "version": "3.10.8"
  },
  "vscode": {
   "interpreter": {
    "hash": "aee8b7b246df8f9039afb4144a1f6fd8d2ca17a180786b69acc140d282b71a49"
   }
  }
 },
 "nbformat": 4,
 "nbformat_minor": 4
}
