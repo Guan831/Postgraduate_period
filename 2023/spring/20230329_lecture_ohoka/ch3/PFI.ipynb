{
 "cells": [
  {
   "attachments": {},
   "cell_type": "markdown",
   "metadata": {},
   "source": [
    "# PFI"
   ]
  },
  {
   "cell_type": "code",
   "execution_count": null,
   "metadata": {},
   "outputs": [],
   "source": [
    "from sklearn.inspection import partial_dependence\n",
    "from sklearn.inspection import PartialDependenceDisplay\n",
    "\n",
    "\n",
    "# 何度か使うのでplot_partial_dependence()を利用した関数を作成しておく\n",
    "def plot_boston_pd(var_name, var_name_jp):\n",
    "    \"\"\"PDを可視化する関数\"\"\"\n",
    "\n",
    "    fig, ax = plt.subplots()\n",
    "    PartialDependenceDisplay.from_estimator(estimator=rf, X=X_test,features=[var_name],kind=\"average\").plot(ax=ax)\n",
    "    fig.suptitle(f\"{var_name_jp}({var_name})のPartial Dependence Plot\")\n",
    "\n",
    "    fig.show()"
   ]
  },
  {
   "cell_type": "code",
   "execution_count": null,
   "metadata": {},
   "outputs": [],
   "source": [
    "import joblib\n",
    "\n",
    "# データと学習済みモデルを読み込む\n",
    "X_train, X_test, y_train, y_test = joblib.load(\"../data/boston_housing.pkl\")\n",
    "rf = joblib.load(\"../model/boston_housing_rf.pkl\")"
   ]
  },
  {
   "cell_type": "code",
   "execution_count": null,
   "metadata": {},
   "outputs": [],
   "source": [
    "from sklearn.inspection import permutation_importance\n",
    "\n",
    "# PFIを計算\n",
    "pfi = permutation_importance(\n",
    "    \"\"\"\n",
    "    引数を設定する\n",
    "    \"\"\"\n",
    ")\n",
    "pfi"
   ]
  },
  {
   "cell_type": "code",
   "execution_count": null,
   "metadata": {},
   "outputs": [],
   "source": [
    "from sklearn.linear_model import LinearRegression\n",
    "\n",
    "\n",
    "def plot_bar(variables, values, title=None, xlabel=None, ylabel=None):\n",
    "    \"\"\"回帰係数の大きさを確認する棒グラフを作成\"\"\"\n",
    "    \n",
    "    fig, ax = plt.subplots()\n",
    "    ax.barh(variables, values)\n",
    "    ax.set(xlabel=xlabel, ylabel=ylabel, xlim=(0, None))\n",
    "    fig.suptitle(title)\n",
    "    \n",
    "    fig.show()"
   ]
  },
  {
   "cell_type": "code",
   "execution_count": null,
   "metadata": {},
   "outputs": [],
   "source": [
    "# PFIを可視化するために、特徴量の名前と重要度を対応させたデータフレームを作成\n",
    "df_pfi = pd.DataFrame(\n",
    "    data={\"var_name\": X_test.columns, \"importance\": pfi[\"importances_mean\"]}\n",
    ").sort_values(\"importance\")\n",
    "\n",
    "# PFIを可視化\n",
    "plot_bar(\n",
    "    df_pfi[\"var_name\"],\n",
    "    df_pfi[\"importance\"],\n",
    "    xlabel=\"difference\",\n",
    "    title=\"Permutationによる特徴量の重要度(difference)\",\n",
    ")"
   ]
  },
  {
   "cell_type": "code",
   "execution_count": null,
   "metadata": {},
   "outputs": [],
   "source": []
  }
 ],
 "metadata": {
  "kernelspec": {
   "display_name": "Python 3",
   "language": "python",
   "name": "python3"
  },
  "language_info": {
   "codemirror_mode": {
    "name": "ipython",
    "version": 3
   },
   "file_extension": ".py",
   "mimetype": "text/x-python",
   "name": "python",
   "nbconvert_exporter": "python",
   "pygments_lexer": "ipython3",
   "version": "3.10.5"
  },
  "vscode": {
   "interpreter": {
    "hash": "aee8b7b246df8f9039afb4144a1f6fd8d2ca17a180786b69acc140d282b71a49"
   }
  }
 },
 "nbformat": 4,
 "nbformat_minor": 4
}
